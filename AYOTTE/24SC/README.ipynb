{
 "cells": [
  {
   "cell_type": "markdown",
   "metadata": {},
   "source": [
    "# AYOTTE 24SC\n",
    "\n",
    "## Description\n",
    "\n",
    "The cases referred to as **AYOTTE** focuse on the dry neutral convective boundary layer. They are highly idealized and described in Ayotte et al. (1996) and further used in Hourdin et al. (2002).\n",
    "\n",
    "## Case setup\n",
    "\n",
    "The case setup follows the Ayotte et al. (1996). The data were retrieved by F. Hourdin from K. Ayotte\n",
    "\n",
    "### General specifications\n",
    "\n",
    "The case starts on 11 December 2009 (arbitrary choice) at 10:00 UTC, and last for 7 hours. The latitude is 45°N and the longitude is 123.3°E. The altitude above the geoide is about 0 m, and the surface pressure is set to 1000 hPa and is supposed to remain constant along the case.\n",
    "\n",
    "### Initial State\n",
    "\n",
    "The case is originally defined in terms of potential temperature $\\theta$, zonal wind $u$ and meridional wind $v$:\n",
    "\n",
    "<table><tr>\n",
    "<td> <img src=\"https://raw.githubusercontent.com/romainroehrig/DEPHY-SCM/master/AYOTTE/24SC/images/driver_DEF/theta.png\" title=\"Initial potential temperature\" style=\"width: 300px;\"/> </td>\n",
    "<td> <img src=\"https://raw.githubusercontent.com/romainroehrig/DEPHY-SCM/master/AYOTTE/24SC/images/driver_DEF/u.png\" title=\"Initial zonal wind\" style=\"width: 300px;\"/> </td>\n",
    "<td> <img src=\"https://raw.githubusercontent.com/romainroehrig/DEPHY-SCM/master/AYOTTE/24SC/images/driver_DEF/v.png\" title=\"Initial zonal wind\" style=\"width: 300px;\"/> </td>\n",
    "</tr></table>\n",
    "\n",
    "The atmosphere is dry ($r_t=0$) and the turbulent kinetic energy $e$ is initialized to 0 m$^2$ s$^{-2}$.\n",
    "\n",
    "### Boundary conditions\n",
    "\n",
    "\n",
    "The surface sensible flux is imposed to the atmospheric column, and constant over the simulation equal to 270.096 W m$^{-2}$ ($=\\rho C_p \\times 0.24$ K m s$^{-1}$). The surface latent heat flux is equal to zero.\n",
    "\n",
    "The surface roughness length is set to 0.16 m. Monin–Obukhov similarity is then used to compute the friction velocity ($u_*$).\n",
    "\n",
    "### Lateral forcing\n",
    "\n",
    "There is no lateral forcing, no prescribed vertical velocity and no radiation. A large-scale horizontal pressure gradient is applied through the forcing of a constant geostrophic wind $(u_g,v_g) = (15,0)$ m s$^{-1}$ with a Coriolis parameter $f=??\\phantom{a}10^{-5}$ s$^{-1}$ (as appropriate for a latitude of 45°N).  \n",
    "\n",
    "## SCM-enabled file\n",
    "\n",
    "#### Hypotheses so far\n",
    "\n",
    "  * The vertical grid has 10-m resolution for all fields, from the surface to 6000 m. The time axis goes from 10:00 UTC to 17:00 UTC, 11 December 2009 with a 30-minute timestep.\n",
    "  \n",
    "  * Pressure is computed using the altitude, the potential temperature and the surface pressure, assuming a dry atmosphere. Temperature is then deduced from the potential temperature and the pressure.\n",
    "\n",
    "#### TODO\n",
    "\n",
    "  * Add a realistic surface temperature\n",
    "  * Extrapolation to be revisited\n",
    "\n",
    "## References\n",
    "\n",
    "Ayotte, K. W., P. P. Sullivan, A. Andr ́en, S. C. Doney, A. A. M. Holtslag, W. G. Large, J. C. McWilliams, C.-H. Moeng, M. J. Otte, J. J. Tribbia, and J. C. Wyngaard, 1996: An evaluation of neutral and convective planetary boundary-layer parameterizations relative to large eddy simulations. *Boundary-Layer Meteorology*, **79**(1), 131–175, [link](https://link.springer.com/article/10.1007%2FBF00120078)\n",
    "\n",
    "Hourdin, F., F. Couvreux, and L. Menut, 2002: Parameterization of the Dry Convective Boundary Layer Based on a Mass Flux Representation of Thermals. *Journal of the Atmospheric Sciences*, **59**(6), 1105–1123, [link](https://journals.ametsoc.org/doi/10.1175/1520-0469(2002)059%3C1105%3APOTDCB%3E2.0.CO%3B2)\n"
   ]
  },
  {
   "cell_type": "code",
   "execution_count": null,
   "metadata": {},
   "outputs": [],
   "source": []
  }
 ],
 "metadata": {
  "kernelspec": {
   "display_name": "Python 2",
   "language": "python",
   "name": "python2"
  },
  "language_info": {
   "codemirror_mode": {
    "name": "ipython",
    "version": 2
   },
   "file_extension": ".py",
   "mimetype": "text/x-python",
   "name": "python",
   "nbconvert_exporter": "python",
   "pygments_lexer": "ipython2",
   "version": "2.7.15"
  }
 },
 "nbformat": 4,
 "nbformat_minor": 2
}
